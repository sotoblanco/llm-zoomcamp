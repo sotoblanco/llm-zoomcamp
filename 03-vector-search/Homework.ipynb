{
 "cells": [
  {
   "cell_type": "markdown",
   "id": "36f15c36-6fc5-42ef-a5a4-0f5790679e25",
   "metadata": {},
   "source": [
    "Q1. Getting the embeddings model\n",
    "First, we will get the embeddings model ``multi-qa-distilbert-cos-v1`` from the Sentence Transformer library\n",
    "\n",
    "```python\n",
    "from sentence_transformers import SentenceTransformer\n",
    "embedding_model = SentenceTransformer(model_name)\n",
    "```\n",
    "Create the embedding for this user question:\n",
    "\n",
    "```\n",
    "user_question = \"I just discovered the course. Can I still join it?\"\n",
    "What's the first value of the resulting vector?\n",
    "```\n",
    "\n",
    "- -0.24\n",
    "\n",
    "- -0.04\n",
    "\n",
    "- 0.07\n",
    "\n",
    "- 0.27"
   ]
  },
  {
   "cell_type": "code",
   "execution_count": 2,
   "id": "8b09fe2a-c8c4-41a7-8675-1779c52078dc",
   "metadata": {},
   "outputs": [],
   "source": [
    "from sentence_transformers import SentenceTransformer\n",
    "\n",
    "model_name = \"multi-qa-distilbert-cos-v1\"\n",
    "embedding_model = SentenceTransformer(model_name)"
   ]
  },
  {
   "cell_type": "code",
   "execution_count": 3,
   "id": "709bfa5d-32a4-42dd-8714-424211a7ca39",
   "metadata": {},
   "outputs": [],
   "source": [
    "user_question = \"I just discovered the course. Can I still join it?\""
   ]
  },
  {
   "cell_type": "code",
   "execution_count": 18,
   "id": "f9a27756-a143-4ffb-8c24-b82efb658e8e",
   "metadata": {},
   "outputs": [],
   "source": [
    "v = embedding_model.encode(user_question)"
   ]
  },
  {
   "cell_type": "code",
   "execution_count": 19,
   "id": "83eab6c8-215a-4019-ab1c-815d969c33b0",
   "metadata": {},
   "outputs": [
    {
     "data": {
      "text/plain": [
       "0.078222655"
      ]
     },
     "execution_count": 19,
     "metadata": {},
     "output_type": "execute_result"
    }
   ],
   "source": [
    "v[0]"
   ]
  },
  {
   "cell_type": "markdown",
   "id": "d114e347-d81c-4475-8f28-6f0f43a80bdf",
   "metadata": {},
   "source": [
    "## Q2. Creating the embeddings\n",
    "Now for each document, we will create an embedding for both question and answer fields.\n",
    "\n",
    "We want to put all of them into a single matrix X:\n",
    "\n",
    "- Create a list embeddings\n",
    "- Iterate over each document\n",
    "- ``qa_text = f'{question} {text}'``\n",
    "- compute the embedding for qa_text, append to embeddings\n",
    "- At the end, let ``X = np.array(embeddings)`` ``(import numpy as np)``\n",
    "\n",
    "What's the shape of X? (``X.shape``). Include the parantheses."
   ]
  },
  {
   "cell_type": "code",
   "execution_count": 6,
   "id": "b79aac67-4331-4ae3-b0c8-a6062b3c9512",
   "metadata": {},
   "outputs": [],
   "source": [
    "import requests \n",
    "\n",
    "base_url = 'https://github.com/DataTalksClub/llm-zoomcamp/blob/main'\n",
    "relative_url = '03-vector-search/eval/documents-with-ids.json'\n",
    "docs_url = f'{base_url}/{relative_url}?raw=1'\n",
    "docs_response = requests.get(docs_url)\n",
    "documents = docs_response.json()"
   ]
  },
  {
   "cell_type": "code",
   "execution_count": 7,
   "id": "9dc2ab77-fa47-414b-baec-b94b9c63a60c",
   "metadata": {},
   "outputs": [],
   "source": [
    "ml_qa = []\n",
    "for doc in documents:\n",
    "    if doc['course'] == \"machine-learning-zoomcamp\":\n",
    "        ml_qa.append(doc)"
   ]
  },
  {
   "cell_type": "code",
   "execution_count": 8,
   "id": "a4d8e6d1-b381-4a59-adf1-d179d7aeaf46",
   "metadata": {},
   "outputs": [
    {
     "data": {
      "text/plain": [
       "375"
      ]
     },
     "execution_count": 8,
     "metadata": {},
     "output_type": "execute_result"
    }
   ],
   "source": [
    "len(ml_qa)"
   ]
  },
  {
   "cell_type": "code",
   "execution_count": 9,
   "id": "9bfd5c94-28c3-4627-b874-a91f3357a1d3",
   "metadata": {},
   "outputs": [
    {
     "data": {
      "text/plain": [
       "{'text': 'Machine Learning Zoomcamp FAQ\\nThe purpose of this document is to capture frequently asked technical questions.\\nWe did this for our data engineering course and it worked quite well. Check this document for inspiration on how to structure your questions and answers:\\nData Engineering Zoomcamp FAQ\\nIn the course GitHub repository there’s a link. Here it is: https://airtable.com/shryxwLd0COOEaqXo\\nwork',\n",
       " 'section': 'General course-related questions',\n",
       " 'question': 'How do I sign up?',\n",
       " 'course': 'machine-learning-zoomcamp',\n",
       " 'id': '0227b872'}"
      ]
     },
     "execution_count": 9,
     "metadata": {},
     "output_type": "execute_result"
    }
   ],
   "source": [
    "ml_qa[0]"
   ]
  },
  {
   "cell_type": "code",
   "execution_count": 10,
   "id": "3a7171d8-0661-4747-af57-9e688e4a741e",
   "metadata": {},
   "outputs": [],
   "source": [
    "embeddings = []\n",
    "for qa in ml_qa:\n",
    "    question = qa['question']\n",
    "    text = qa['text']\n",
    "    qa_text = f'{question} {text}'\n",
    "    embeddings.append(embedding_model.encode(qa_text))"
   ]
  },
  {
   "cell_type": "code",
   "execution_count": 11,
   "id": "50bfcae2-14bd-4cca-a3bb-c3f29d2a3447",
   "metadata": {},
   "outputs": [],
   "source": [
    "import numpy as np\n",
    "\n",
    "X = np.array(embeddings)"
   ]
  },
  {
   "cell_type": "code",
   "execution_count": 23,
   "id": "134d0838-e9ce-43b6-acf5-83fe1ab3dc99",
   "metadata": {},
   "outputs": [
    {
     "data": {
      "text/plain": [
       "(375, 768)"
      ]
     },
     "execution_count": 23,
     "metadata": {},
     "output_type": "execute_result"
    }
   ],
   "source": [
    "X.shape"
   ]
  },
  {
   "cell_type": "code",
   "execution_count": 20,
   "id": "eb97a4dd-5367-4d7d-8eea-72ec93f6eb29",
   "metadata": {},
   "outputs": [],
   "source": [
    "scores = X.dot(v)"
   ]
  },
  {
   "cell_type": "code",
   "execution_count": 23,
   "id": "11af9fdc-bd26-4fa3-96bb-bc03df473fb6",
   "metadata": {},
   "outputs": [
    {
     "data": {
      "text/plain": [
       "0.6506573"
      ]
     },
     "execution_count": 23,
     "metadata": {},
     "output_type": "execute_result"
    }
   ],
   "source": [
    "scores.max()"
   ]
  }
 ],
 "metadata": {
  "kernelspec": {
   "display_name": "Python 3 (ipykernel)",
   "language": "python",
   "name": "python3"
  },
  "language_info": {
   "codemirror_mode": {
    "name": "ipython",
    "version": 3
   },
   "file_extension": ".py",
   "mimetype": "text/x-python",
   "name": "python",
   "nbconvert_exporter": "python",
   "pygments_lexer": "ipython3",
   "version": "3.10.13"
  }
 },
 "nbformat": 4,
 "nbformat_minor": 5
}
