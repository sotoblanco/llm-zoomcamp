{
 "cells": [
  {
   "cell_type": "markdown",
   "id": "16c0063f-d1c2-4815-b1c3-a553b5b7eb98",
   "metadata": {},
   "source": [
    "# Homework"
   ]
  },
  {
   "cell_type": "code",
   "execution_count": 1,
   "id": "0c7cbca7-4d7b-43c9-ab58-69dd3af08b9d",
   "metadata": {},
   "outputs": [],
   "source": [
    "import pandas as pd\n",
    "#github_url = 'https://raw.githubusercontent.com/DataTalksClub/llm-zoomcamp/main/04-monitoring/data/results-gpt4o-mini.csv'\n",
    "github_url = 'https://github.com/DataTalksClub/llm-zoomcamp/blob/main/04-monitoring/data/results-gpt4o-mini.csv'\n",
    "url = f'{github_url}?raw=1'\n",
    "df = pd.read_csv(url)"
   ]
  },
  {
   "cell_type": "code",
   "execution_count": 2,
   "id": "ffd2cc67-cbef-491b-a545-0b00d1704ca3",
   "metadata": {},
   "outputs": [],
   "source": [
    "df = df.iloc[:300]"
   ]
  },
  {
   "cell_type": "code",
   "execution_count": 3,
   "id": "cb48dc42-52ca-4cc2-828b-87ce4e800e54",
   "metadata": {},
   "outputs": [
    {
     "data": {
      "text/html": [
       "<div>\n",
       "<style scoped>\n",
       "    .dataframe tbody tr th:only-of-type {\n",
       "        vertical-align: middle;\n",
       "    }\n",
       "\n",
       "    .dataframe tbody tr th {\n",
       "        vertical-align: top;\n",
       "    }\n",
       "\n",
       "    .dataframe thead th {\n",
       "        text-align: right;\n",
       "    }\n",
       "</style>\n",
       "<table border=\"1\" class=\"dataframe\">\n",
       "  <thead>\n",
       "    <tr style=\"text-align: right;\">\n",
       "      <th></th>\n",
       "      <th>answer_llm</th>\n",
       "      <th>answer_orig</th>\n",
       "      <th>document</th>\n",
       "      <th>question</th>\n",
       "      <th>course</th>\n",
       "    </tr>\n",
       "  </thead>\n",
       "  <tbody>\n",
       "    <tr>\n",
       "      <th>26</th>\n",
       "      <td>Yes, it is possible that your confirmation ema...</td>\n",
       "      <td>The process is automated now, so you should re...</td>\n",
       "      <td>6ba259b1</td>\n",
       "      <td>Is it possible my confirmation email went to m...</td>\n",
       "      <td>machine-learning-zoomcamp</td>\n",
       "    </tr>\n",
       "    <tr>\n",
       "      <th>157</th>\n",
       "      <td>Before making changes to fix a GitHub push err...</td>\n",
       "      <td>Type the following command:\\ngit config -l | g...</td>\n",
       "      <td>a2cfa1c9</td>\n",
       "      <td>What should the remote.origin.url look like be...</td>\n",
       "      <td>machine-learning-zoomcamp</td>\n",
       "    </tr>\n",
       "    <tr>\n",
       "      <th>141</th>\n",
       "      <td>To avoid getting a singular matrix error while...</td>\n",
       "      <td>I'm trying to invert the matrix but I got erro...</td>\n",
       "      <td>54ec0de4</td>\n",
       "      <td>How can I avoid getting a singular matrix erro...</td>\n",
       "      <td>machine-learning-zoomcamp</td>\n",
       "    </tr>\n",
       "    <tr>\n",
       "      <th>258</th>\n",
       "      <td>The command `sns.histplot(df['median_house_val...</td>\n",
       "      <td>We can use histogram:\\nimport pandas as pd\\nim...</td>\n",
       "      <td>bbc0fca3</td>\n",
       "      <td>What does the command sns.histplot(df['median_...</td>\n",
       "      <td>machine-learning-zoomcamp</td>\n",
       "    </tr>\n",
       "    <tr>\n",
       "      <th>218</th>\n",
       "      <td>You can find more resources about multiple lin...</td>\n",
       "      <td>In Question 7 we are asked to calculate\\nThe i...</td>\n",
       "      <td>183a1c90</td>\n",
       "      <td>Where can I find more resources about multiple...</td>\n",
       "      <td>machine-learning-zoomcamp</td>\n",
       "    </tr>\n",
       "  </tbody>\n",
       "</table>\n",
       "</div>"
      ],
      "text/plain": [
       "                                            answer_llm  \\\n",
       "26   Yes, it is possible that your confirmation ema...   \n",
       "157  Before making changes to fix a GitHub push err...   \n",
       "141  To avoid getting a singular matrix error while...   \n",
       "258  The command `sns.histplot(df['median_house_val...   \n",
       "218  You can find more resources about multiple lin...   \n",
       "\n",
       "                                           answer_orig  document  \\\n",
       "26   The process is automated now, so you should re...  6ba259b1   \n",
       "157  Type the following command:\\ngit config -l | g...  a2cfa1c9   \n",
       "141  I'm trying to invert the matrix but I got erro...  54ec0de4   \n",
       "258  We can use histogram:\\nimport pandas as pd\\nim...  bbc0fca3   \n",
       "218  In Question 7 we are asked to calculate\\nThe i...  183a1c90   \n",
       "\n",
       "                                              question  \\\n",
       "26   Is it possible my confirmation email went to m...   \n",
       "157  What should the remote.origin.url look like be...   \n",
       "141  How can I avoid getting a singular matrix erro...   \n",
       "258  What does the command sns.histplot(df['median_...   \n",
       "218  Where can I find more resources about multiple...   \n",
       "\n",
       "                        course  \n",
       "26   machine-learning-zoomcamp  \n",
       "157  machine-learning-zoomcamp  \n",
       "141  machine-learning-zoomcamp  \n",
       "258  machine-learning-zoomcamp  \n",
       "218  machine-learning-zoomcamp  "
      ]
     },
     "execution_count": 3,
     "metadata": {},
     "output_type": "execute_result"
    }
   ],
   "source": [
    "df.sample(n=5)"
   ]
  },
  {
   "cell_type": "code",
   "execution_count": 4,
   "id": "12ab1327-bfd6-4924-9dac-ab9f68d09822",
   "metadata": {},
   "outputs": [
    {
     "name": "stderr",
     "output_type": "stream",
     "text": [
      "You try to use a model that was created with version 3.0.0.dev0, however, your version is 2.7.0. This might cause unexpected behavior or errors. In that case, try to update to the latest version.\n",
      "\n",
      "\n",
      "\n"
     ]
    }
   ],
   "source": [
    "from sentence_transformers import SentenceTransformer\n",
    "model_name = 'multi-qa-mpnet-base-dot-v1'\n",
    "embedding_model = SentenceTransformer(model_name)"
   ]
  },
  {
   "cell_type": "code",
   "execution_count": 5,
   "id": "01defa02-1008-4639-8e6a-090a1d09a4d1",
   "metadata": {},
   "outputs": [
    {
     "data": {
      "text/plain": [
       "answer_llm     You can sign up for the course by visiting the...\n",
       "answer_orig    Machine Learning Zoomcamp FAQ\\nThe purpose of ...\n",
       "document                                                0227b872\n",
       "question                     Where can I sign up for the course?\n",
       "course                                 machine-learning-zoomcamp\n",
       "Name: 0, dtype: object"
      ]
     },
     "execution_count": 5,
     "metadata": {},
     "output_type": "execute_result"
    }
   ],
   "source": [
    "df.iloc[0]"
   ]
  },
  {
   "cell_type": "code",
   "execution_count": 6,
   "id": "8330acf1-84f6-494b-9406-1010775e0d9f",
   "metadata": {},
   "outputs": [],
   "source": [
    "answer_llm = df.iloc[0].answer_llm"
   ]
  },
  {
   "cell_type": "code",
   "execution_count": 7,
   "id": "98139e4a-e95c-4e17-9faa-156615e09f57",
   "metadata": {},
   "outputs": [
    {
     "data": {
      "text/plain": [
       "-0.42244655"
      ]
     },
     "execution_count": 7,
     "metadata": {},
     "output_type": "execute_result"
    }
   ],
   "source": [
    "embedding_model.encode(answer_llm)[0]"
   ]
  },
  {
   "cell_type": "code",
   "execution_count": 8,
   "id": "0f959086-0221-49b3-9130-2ff79f297c56",
   "metadata": {},
   "outputs": [],
   "source": [
    "records_df = df.to_dict(orient='records')"
   ]
  },
  {
   "cell_type": "code",
   "execution_count": 9,
   "id": "75b3c5af-5fbb-4c9d-9ceb-fe393e814e15",
   "metadata": {},
   "outputs": [],
   "source": [
    "from tqdm.auto import tqdm"
   ]
  },
  {
   "cell_type": "code",
   "execution_count": null,
   "id": "d07bbdf7-970b-4e1c-bb25-ce695b211fc5",
   "metadata": {},
   "outputs": [],
   "source": [
    "def normalize(v):\n",
    "    norm = np.sqrt((v * v).sum())\n",
    "    v_norm = v / norm\n",
    "    return v_norm"
   ]
  },
  {
   "cell_type": "markdown",
   "id": "9572008b-9f60-4200-b7ef-94ff9d5865f2",
   "metadata": {},
   "source": [
    "## Q2. Computing the dot product\n",
    "\n",
    "Now for each answer pair, let's create embeddings and compute dot product between them\n",
    "\n",
    "We will put the results (scores) into the evaluations list\n",
    "\n",
    "What's the 75% percentile of the score?"
   ]
  },
  {
   "cell_type": "code",
   "execution_count": 58,
   "id": "afe099b3-e52a-4b3a-9adb-43fd84dcf6e1",
   "metadata": {},
   "outputs": [
    {
     "data": {
      "application/vnd.jupyter.widget-view+json": {
       "model_id": "9ec2b695c21c4f23a2afa56c7893996e",
       "version_major": 2,
       "version_minor": 0
      },
      "text/plain": [
       "  0%|          | 0/300 [00:00<?, ?it/s]"
      ]
     },
     "metadata": {},
     "output_type": "display_data"
    }
   ],
   "source": [
    "evaluations = []\n",
    "evaluations_norm = []\n",
    "\n",
    "for rec in tqdm(records_df):\n",
    "    answer_llm = rec['answer_llm']\n",
    "    answer_orig = rec['answer_orig']\n",
    "    emb_llm = embedding_model.encode(answer_llm)\n",
    "    emb_orig = embedding_model.encode(answer_orig)\n",
    "    v_norm_llm = normalize(np.array(emb_llm))\n",
    "    v_norm_orig = normalize(np.array(emb_orig))\n",
    "    evaluations.append(emb_llm.dot(emb_orig))\n",
    "    evaluations_norm.append(v_norm_llm.dot(v_norm_orig))"
   ]
  },
  {
   "cell_type": "code",
   "execution_count": 60,
   "id": "8c0b86f7-f180-440e-b0d4-4b72b533fd86",
   "metadata": {},
   "outputs": [
    {
     "data": {
      "text/plain": [
       "count    300.000000\n",
       "mean      27.495996\n",
       "std        6.384742\n",
       "min        4.547923\n",
       "25%       24.307844\n",
       "50%       28.336870\n",
       "75%       31.674309\n",
       "max       39.476013\n",
       "Name: evaluations, dtype: float64"
      ]
     },
     "execution_count": 60,
     "metadata": {},
     "output_type": "execute_result"
    }
   ],
   "source": [
    "df['evaluations'] = evaluations\n",
    "df['evaluations'].describe()"
   ]
  },
  {
   "cell_type": "markdown",
   "id": "a7562b66-48ce-4c0f-b5cf-694931157fb1",
   "metadata": {},
   "source": [
    "## Q3. Computing the cosine\n",
    "\n",
    "From Q2, we can see that the results are not within the [0, 1] range. It's because the vectors coming from this model are not normalized.\n",
    "\n",
    "So we need to normalize them.\n",
    "\n",
    "To do it, we\n",
    "\n",
    "Compute the norm of a vector\n",
    "Divide each element by this norm\n",
    "So, for vector v, it'll be v / ||v||\n",
    "\n",
    "In numpy, this is how you do it:\n",
    "```python\n",
    "norm = np.sqrt((v * v).sum())\n",
    "v_norm = v / norm\n",
    "```\n",
    "\n",
    "Let's put it into a function and then compute dot product between normalized vectors. This will give us cosine similarity\n",
    "\n",
    "What's the 75% cosine in the scores?"
   ]
  },
  {
   "cell_type": "code",
   "execution_count": 59,
   "id": "952cb75a-4dfb-49cd-ba03-c4ef27037a93",
   "metadata": {},
   "outputs": [
    {
     "data": {
      "text/plain": [
       "count    300.000000\n",
       "mean       0.728393\n",
       "std        0.157755\n",
       "min        0.125357\n",
       "25%        0.651273\n",
       "50%        0.763761\n",
       "75%        0.836235\n",
       "max        0.958796\n",
       "Name: evaluations_norm, dtype: float64"
      ]
     },
     "execution_count": 59,
     "metadata": {},
     "output_type": "execute_result"
    }
   ],
   "source": [
    "df['evaluations_norm'] = evaluations_norm\n",
    "df['evaluations_norm'].describe()"
   ]
  },
  {
   "cell_type": "markdown",
   "id": "e349d414-87d0-415f-ba74-9e0520af048b",
   "metadata": {},
   "source": [
    "## Q4. Rouge\n",
    "\n",
    "Now we will explore an alternative metric - the ROUGE score.\n",
    "\n",
    "This is a set of metrics that compares two answers based on the overlap of n-grams, word sequences, and word pairs.\n",
    "\n",
    "It can give a more nuanced view of text similarity than just cosine similarity alone.\n",
    "\n",
    "We don't need to implement it ourselves, there's a python package for it:"
   ]
  },
  {
   "cell_type": "code",
   "execution_count": 61,
   "id": "cd84da28-252b-4a25-b5ba-dc971c9d44d5",
   "metadata": {},
   "outputs": [
    {
     "name": "stderr",
     "output_type": "stream",
     "text": [
      "huggingface/tokenizers: The current process just got forked, after parallelism has already been used. Disabling parallelism to avoid deadlocks...\n",
      "To disable this warning, you can either:\n",
      "\t- Avoid using `tokenizers` before the fork if possible\n",
      "\t- Explicitly set the environment variable TOKENIZERS_PARALLELISM=(true | false)\n"
     ]
    },
    {
     "name": "stdout",
     "output_type": "stream",
     "text": [
      "\n",
      "\u001b[1m[\u001b[0m\u001b[34;49mnotice\u001b[0m\u001b[1;39;49m]\u001b[0m\u001b[39;49m A new release of pip is available: \u001b[0m\u001b[31;49m24.0\u001b[0m\u001b[39;49m -> \u001b[0m\u001b[32;49m24.2\u001b[0m\n",
      "\u001b[1m[\u001b[0m\u001b[34;49mnotice\u001b[0m\u001b[1;39;49m]\u001b[0m\u001b[39;49m To update, run: \u001b[0m\u001b[32;49mpython3 -m pip install --upgrade pip\u001b[0m\n"
     ]
    }
   ],
   "source": [
    "!pip install rouge -q"
   ]
  },
  {
   "cell_type": "code",
   "execution_count": 64,
   "id": "cdc8fb92-bbb0-4c73-b09b-18d4197b172a",
   "metadata": {},
   "outputs": [],
   "source": [
    "r = df.iloc[10]"
   ]
  },
  {
   "cell_type": "code",
   "execution_count": 65,
   "id": "8c35c22c-e6cc-424e-b4ef-6a23361f1710",
   "metadata": {},
   "outputs": [],
   "source": [
    "from rouge import Rouge\n",
    "rouge_scorer = Rouge()\n",
    "\n",
    "scores = rouge_scorer.get_scores(r['answer_llm'], r['answer_orig'])[0]"
   ]
  },
  {
   "cell_type": "code",
   "execution_count": 67,
   "id": "f3bb5f78-69f3-4019-8410-ddca6b33da60",
   "metadata": {},
   "outputs": [
    {
     "data": {
      "text/plain": [
       "{'r': 0.45454545454545453, 'p': 0.45454545454545453, 'f': 0.45454544954545456}"
      ]
     },
     "execution_count": 67,
     "metadata": {},
     "output_type": "execute_result"
    }
   ],
   "source": [
    "scores['rouge-1']"
   ]
  },
  {
   "cell_type": "code",
   "execution_count": 75,
   "id": "334baca3-594c-4ed5-8525-54f2d536c43c",
   "metadata": {},
   "outputs": [
    {
     "data": {
      "text/plain": [
       "{'rouge-1': {'r': 0.45454545454545453,\n",
       "  'p': 0.45454545454545453,\n",
       "  'f': 0.45454544954545456},\n",
       " 'rouge-2': {'r': 0.21621621621621623,\n",
       "  'p': 0.21621621621621623,\n",
       "  'f': 0.21621621121621637},\n",
       " 'rouge-l': {'r': 0.3939393939393939,\n",
       "  'p': 0.3939393939393939,\n",
       "  'f': 0.393939388939394}}"
      ]
     },
     "execution_count": 75,
     "metadata": {},
     "output_type": "execute_result"
    }
   ],
   "source": [
    "scores"
   ]
  },
  {
   "cell_type": "code",
   "execution_count": 83,
   "id": "6258edaf-d1d5-4425-9307-fed3b2bf2e18",
   "metadata": {},
   "outputs": [
    {
     "data": {
      "text/plain": [
       "0.43434342934343434"
      ]
     },
     "execution_count": 83,
     "metadata": {},
     "output_type": "execute_result"
    }
   ],
   "source": [
    "np.mean([scores['rouge-1']['f'], scores['rouge-1']['f'], scores['rouge-l']['f']])"
   ]
  },
  {
   "cell_type": "code",
   "execution_count": 86,
   "id": "4a5fd11c-c5d7-4e73-a7a8-271cc81477d8",
   "metadata": {},
   "outputs": [],
   "source": [
    "rouge_score_list = []\n",
    "for rec in records_df:\n",
    "    scores = rouge_scorer.get_scores(rec['answer_llm'], rec['answer_orig'])[0]\n",
    "    rouge_score_list.append(scores['rouge-2'])"
   ]
  },
  {
   "cell_type": "code",
   "execution_count": 89,
   "id": "fb82a93e-d854-4918-8f21-04f5bab14b43",
   "metadata": {},
   "outputs": [],
   "source": [
    "df_rouge_score = pd.DataFrame(rouge_score_list)"
   ]
  },
  {
   "cell_type": "code",
   "execution_count": 91,
   "id": "87462c67-2039-4c85-a25b-26d0a25c2b7f",
   "metadata": {},
   "outputs": [
    {
     "data": {
      "text/plain": [
       "0.20696501983423318"
      ]
     },
     "execution_count": 91,
     "metadata": {},
     "output_type": "execute_result"
    }
   ],
   "source": [
    "df_rouge_score['f'].mean()"
   ]
  }
 ],
 "metadata": {
  "kernelspec": {
   "display_name": "Python 3 (ipykernel)",
   "language": "python",
   "name": "python3"
  },
  "language_info": {
   "codemirror_mode": {
    "name": "ipython",
    "version": 3
   },
   "file_extension": ".py",
   "mimetype": "text/x-python",
   "name": "python",
   "nbconvert_exporter": "python",
   "pygments_lexer": "ipython3",
   "version": "3.10.13"
  }
 },
 "nbformat": 4,
 "nbformat_minor": 5
}
